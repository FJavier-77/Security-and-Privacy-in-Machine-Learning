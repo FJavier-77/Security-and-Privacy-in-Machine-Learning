{
  "nbformat": 4,
  "nbformat_minor": 0,
  "metadata": {
    "colab": {
      "name": "FGSM and PDG attacks.ipynb",
      "provenance": [],
      "collapsed_sections": [],
      "toc_visible": true
    },
    "kernelspec": {
      "display_name": "Python 3",
      "language": "python",
      "name": "python3"
    },
    "language_info": {
      "codemirror_mode": {
        "name": "ipython",
        "version": 3
      },
      "file_extension": ".py",
      "mimetype": "text/x-python",
      "name": "python",
      "nbconvert_exporter": "python",
      "pygments_lexer": "ipython3",
      "version": "3.7.4"
    },
    "accelerator": "GPU"
  },
  "cells": [
    {
      "cell_type": "markdown",
      "metadata": {
        "id": "oVh6stZmm4FI"
      },
      "source": [
        "# Adversarial Training on CIFAR-10 with FGSM (targeted and non-targeted) and PGD attacks \n",
        "Sharif University of Technology\n",
        "\n",
        "#### Build ResnNet18 over cifar10"
      ]
    },
    {
      "cell_type": "code",
      "metadata": {
        "id": "OGuslJ_e_Hlg"
      },
      "source": [
        "import torch\n",
        "import torch.nn as nn\n",
        "import torch.optim as optim\n",
        "import torch.nn.functional as F\n",
        "import torch.backends.cudnn as cudnn\n",
        "from torch.autograd import *\n",
        "\n",
        "import torchvision\n",
        "import torchvision.transforms as transforms\n",
        "\n",
        "import os\n",
        "import argparse\n",
        "import matplotlib.pyplot as plt\n",
        "import numpy as np\n",
        "\n",
        "from resnet import *\n",
        "\n",
        "import pickle\n"
      ],
      "execution_count": null,
      "outputs": []
    },
    {
      "cell_type": "markdown",
      "metadata": {
        "id": "ciZEN2n5wGzw"
      },
      "source": [
        "## Question 1"
      ]
    },
    {
      "cell_type": "code",
      "metadata": {
        "id": "kMJqAx798x5c"
      },
      "source": [
        "device = 'cuda' if torch.cuda.is_available() else 'cpu'\n",
        "lr = 0.01"
      ],
      "execution_count": null,
      "outputs": []
    },
    {
      "cell_type": "code",
      "metadata": {
        "id": "pBNfOkMr92S3",
        "colab": {
          "base_uri": "https://localhost:8080/"
        },
        "outputId": "fae51d22-5597-4144-89fd-2f9d1932125f"
      },
      "source": [
        "print('==> Preparing data..')\n",
        "transform_train = transforms.Compose([\n",
        "    transforms.RandomCrop(32, padding=4),\n",
        "    transforms.RandomHorizontalFlip(),\n",
        "    transforms.ToTensor(),\n",
        "    transforms.Normalize((0.4914, 0.4822, 0.4465), (0.2023, 0.1994, 0.2010)),\n",
        "])\n",
        "\n",
        "transform_test = transforms.Compose([\n",
        "    transforms.ToTensor(),\n",
        "    transforms.Normalize((0.4914, 0.4822, 0.4465), (0.2023, 0.1994, 0.2010)),\n",
        "])\n",
        "\n",
        "trainset = torchvision.datasets.CIFAR10(\n",
        "    root='./data', train=True, download=True, transform=transform_train)\n",
        "trainloader = torch.utils.data.DataLoader(\n",
        "    trainset, batch_size=128, shuffle=True, num_workers=2)\n",
        "\n",
        "testset = torchvision.datasets.CIFAR10(\n",
        "    root='./data', train=False, download=True, transform=transform_test)\n",
        "testloader = torch.utils.data.DataLoader(\n",
        "    testset, batch_size=100, shuffle=False, num_workers=2)\n",
        "\n",
        "classes = ('plane', 'car', 'bird', 'cat', 'deer',\n",
        "           'dog', 'frog', 'horse', 'ship', 'truck')\n",
        "\n",
        "# Model\n",
        "print('==> Building model..')\n",
        "net = ResNet18()\n",
        "net = net.to(device)\n",
        "if device == 'cuda':\n",
        "    net = torch.nn.DataParallel(net)\n",
        "    cudnn.benchmark = True\n",
        "\n",
        "criterion = nn.CrossEntropyLoss()\n",
        "optimizer = optim.SGD(net.parameters(), lr=lr,\n",
        "                      momentum=0.9, weight_decay=5e-4)\n",
        "scheduler = torch.optim.lr_scheduler.CosineAnnealingLR(optimizer, T_max=200)\n"
      ],
      "execution_count": null,
      "outputs": [
        {
          "output_type": "stream",
          "text": [
            "==> Preparing data..\n",
            "Files already downloaded and verified\n",
            "Files already downloaded and verified\n",
            "==> Building model..\n"
          ],
          "name": "stdout"
        }
      ]
    },
    {
      "cell_type": "markdown",
      "metadata": {
        "id": "m_8ZibSM89TE"
      },
      "source": [
        "###Training"
      ]
    },
    {
      "cell_type": "code",
      "metadata": {
        "id": "OOLoVjk087ek"
      },
      "source": [
        "# Training\n",
        "def train(epoch):\n",
        "    print('\\nEpoch: %d' % epoch)\n",
        "    net.train()\n",
        "    train_loss = 0\n",
        "    correct = 0\n",
        "    total = 0\n",
        "    for batch_idx, (inputs, targets) in enumerate(trainloader):\n",
        "        inputs, targets = inputs.to(device), targets.to(device)\n",
        "        optimizer.zero_grad()\n",
        "        outputs = net(inputs)\n",
        "        loss = criterion(outputs, targets)\n",
        "        loss.backward()\n",
        "        optimizer.step()\n",
        "\n",
        "        train_loss += loss.item()\n",
        "        _, predicted = outputs.max(1)\n",
        "        total += targets.size(0)\n",
        "        correct += predicted.eq(targets).sum().item()\n",
        "    return train_loss/len(trainloader)\n",
        "\n",
        "\n",
        "def test(epoch):\n",
        "    global acc\n",
        "    net.eval()\n",
        "    test_loss = 0\n",
        "    correct = 0\n",
        "    total = 0\n",
        "    with torch.no_grad():\n",
        "        for batch_idx, (inputs, targets) in enumerate(testloader):\n",
        "            inputs, targets = inputs.to(device), targets.to(device)\n",
        "            outputs = net(inputs)\n",
        "            loss = criterion(outputs, targets)\n",
        "\n",
        "            test_loss += loss.item()\n",
        "            _, predicted = outputs.max(1)\n",
        "            total += targets.size(0)\n",
        "            correct += predicted.eq(targets).sum().item()\n",
        "    acc = 100 * correct / total\n",
        "    return test_loss/len(testloader)\n"
      ],
      "execution_count": null,
      "outputs": []
    },
    {
      "cell_type": "code",
      "metadata": {
        "id": "i1Xgld9QoMof"
      },
      "source": [
        "train_losses=[]\n",
        "test_losses=[]\n",
        "epochs=40\n",
        "\n",
        "for epoch in range(0,epochs):\n",
        "    train_losses.append(train(epoch))\n",
        "    test_losses.append(test(epoch))\n",
        "    scheduler.step()\n",
        "\n",
        "print('Accuracy of the network on the test images: %d %%' % (acc))"
      ],
      "execution_count": null,
      "outputs": []
    },
    {
      "cell_type": "markdown",
      "metadata": {
        "id": "uynnLdqcm3k_"
      },
      "source": [
        "####Training and Test loss of Resnet18 model on Cifar-10"
      ]
    },
    {
      "cell_type": "code",
      "metadata": {
        "colab": {
          "base_uri": "https://localhost:8080/",
          "height": 265
        },
        "id": "AQ5q3IPr2lxE",
        "outputId": "449c4b4d-f2bc-4a47-b7ad-c182c54dac92"
      },
      "source": [
        "epochs=40\n",
        "plt.plot(np.arange(1,epochs+1),train_losses, label='train losses')\n",
        "plt.plot(np.arange(1,epochs+1), test_losses, label='test losses')\n",
        "plt.xlabel='epochs'\n",
        "plt.ylabel='losses'\n",
        "plt.legend()\n",
        "plt.show()"
      ],
      "execution_count": null,
      "outputs": [
        {
          "output_type": "display_data",
          "data": {
            "image/png": "[encoded data removed]",
            "text/plain": [
              "<Figure size 432x288 with 1 Axes>"
            ]
          },
          "metadata": {
            "tags": [],
            "needs_background": "light"
          }
        }
      ]
    },
    {
      "cell_type": "markdown",
      "metadata": {
        "id": "s29e791J9F0V"
      },
      "source": [
        "### Evaluating"
      ]
    },
    {
      "cell_type": "code",
      "metadata": {
        "id": "Bsd2s6Kihysc"
      },
      "source": [
        "imgloader = torch.utils.data.DataLoader(\n",
        "    testset, batch_size=100, shuffle=False, num_workers=2)\n",
        "dataiter = iter(imgloader)\n",
        "org_images, org_labels = dataiter.next()"
      ],
      "execution_count": null,
      "outputs": []
    },
    {
      "cell_type": "code",
      "metadata": {
        "id": "_h4OjoPnFiAA",
        "colab": {
          "base_uri": "https://localhost:8080/"
        },
        "outputId": "4cca3acf-1ff8-439c-92c8-5c56ed092580"
      },
      "source": [
        "org_labels = org_labels.to(device)\n",
        "org_images = org_images.to(device)\n",
        "print(org_images.shape)\n",
        "outputs= net(org_images)\n",
        "output=outputs.to(device)\n",
        "print(outputs.shape)\n",
        "_, predicted = torch.max(outputs.data, 1)"
      ],
      "execution_count": null,
      "outputs": [
        {
          "output_type": "stream",
          "text": [
            "torch.Size([100, 3, 32, 32])\n",
            "torch.Size([100, 10])\n"
          ],
          "name": "stdout"
        }
      ]
    },
    {
      "cell_type": "code",
      "metadata": {
        "id": "dEnJ2Vz2j8Zt",
        "colab": {
          "base_uri": "https://localhost:8080/",
          "height": 303
        },
        "outputId": "e89be946-7eac-4d9e-8dcc-a2103b702c13"
      },
      "source": [
        "def imshow(img):\n",
        "    img = img / 2 + 0.5     # unnormalize\n",
        "    npimg = img.numpy()\n",
        "    plt.figure(figsize=(20,20))\n",
        "    plt.imshow(np.transpose(npimg, (1, 2, 0)))\n",
        "    plt.show()\n",
        "\n",
        "\n",
        "samples = []\n",
        "samples_labels = []\n",
        "samples_pred = []\n",
        "selected = [3,66,67,0,26,16,4,13,1,11]\n",
        "\n",
        "for i in selected:\n",
        "  samples.append(org_images[i])\n",
        "  samples_labels.append(org_labels[i])\n",
        "  samples_pred.append(outputs[i])\n",
        "samples = torch.stack(samples)\n",
        "samples_labels = torch.stack(samples_labels)\n",
        "samples_pred = torch.stack(samples_pred)\n",
        "imshow(torchvision.utils.make_grid(samples.cpu()))"
      ],
      "execution_count": null,
      "outputs": [
        {
          "output_type": "stream",
          "text": [
            "Clipping input data to the valid range for imshow with RGB data ([0..1] for floats or [0..255] for integers).\n"
          ],
          "name": "stderr"
        },
        {
          "output_type": "display_data",
          "data": {
            "image/png": "[encoded data removed]",
            "text/plain": [
              "<Figure size 1440x1440 with 1 Axes>"
            ]
          },
          "metadata": {
            "tags": [],
            "needs_background": "light"
          }
        }
      ]
    },
    {
      "cell_type": "code",
      "metadata": {
        "id": "CkV4Pcg40nbm"
      },
      "source": [
        "_, pred = torch.max(samples_pred.data, 1)\n",
        "\n",
        "if not torch.all(torch.eq(pred,samples_labels)) :\n",
        "  print(\"CAUTION: Your model was not sufficiently trained and contain an error. Retrain it!\")"
      ],
      "execution_count": null,
      "outputs": []
    },
    {
      "cell_type": "code",
      "metadata": {
        "id": "96PZLzYn8AYd",
        "colab": {
          "base_uri": "https://localhost:8080/"
        },
        "outputId": "5d458ed0-59c8-4032-b30a-ab2778a29e3d"
      },
      "source": [
        "print(\"sample labels\",samples_labels)\n",
        "print(\"sample preds\",pred)"
      ],
      "execution_count": null,
      "outputs": [
        {
          "output_type": "stream",
          "text": [
            "sample labels tensor([0, 1, 2, 3, 4, 5, 6, 7, 8, 9], device='cuda:0')\n",
            "sample preds tensor([0, 1, 2, 3, 4, 5, 6, 7, 8, 9], device='cuda:0')\n"
          ],
          "name": "stdout"
        }
      ]
    },
    {
      "cell_type": "markdown",
      "metadata": {
        "id": "8uM-_KcQ55bx"
      },
      "source": [
        "We see that the labels and predictions are the same"
      ]
    },
    {
      "cell_type": "markdown",
      "metadata": {
        "id": "40nvLOJjRqIW"
      },
      "source": [
        "###FGSM\n",
        "\n",
        "$x_{adv}=x_{benign}+\\epsilon * sign(\\nabla_{x_{benign}}l(\\theta, x, y))$"
      ]
    },
    {
      "cell_type": "code",
      "metadata": {
        "id": "yjsa7kkg7Hci"
      },
      "source": [
        "def FGSM(net, x, y, eps):\n",
        "        x_ = Variable(x.data, requires_grad=True)\n",
        "        h_ = net(x_)\n",
        "        criterion= torch.nn.CrossEntropyLoss()\n",
        "        cost = criterion(h_, y)\n",
        "        net.zero_grad()\n",
        "        cost.backward()\n",
        "\n",
        "        #perturbation\n",
        "        pert= eps*x_.grad.detach().sign()\n",
        "        \n",
        "        x_adv = x_ + pert\n",
        "\n",
        "        h_adv = net(x_adv)\n",
        "        _,y_adv=torch.max(h_adv.data,1)\n",
        "        return x_adv, h_adv, y_adv, pert\n"
      ],
      "execution_count": null,
      "outputs": []
    },
    {
      "cell_type": "markdown",
      "metadata": {
        "id": "NH8r6HvNiaH5"
      },
      "source": [
        "Creating adversary examples for samples"
      ]
    },
    {
      "cell_type": "code",
      "metadata": {
        "colab": {
          "base_uri": "https://localhost:8080/",
          "height": 1000
        },
        "id": "Dlz3Js_7TQ2z",
        "outputId": "d5e3418d-2bed-4b48-80db-366075d0ba88"
      },
      "source": [
        "print()\n",
        "print('from left to right: perturbation, original image, adversary example')\n",
        "print()\n",
        "for i in selected:\n",
        "    eps=1/255\n",
        "    while True:\n",
        "        x_adv, h_adv, y_adv, pert=FGSM(net, org_images[i].unsqueeze_(0),org_labels[i].unsqueeze_(0),eps)\n",
        "        if y_adv.item()==org_labels[i].item():\n",
        "            eps=eps+(1/255)\n",
        "        else:\n",
        "            break\n",
        "    print(\"true label:\", org_labels[i].item(), \"adversary label:\", y_adv.item())\n",
        "    triple=[]\n",
        "    with torch.no_grad():\n",
        "        triple.append((1/eps)*pert.detach().clone().squeeze_(0))\n",
        "        triple.append(org_images[i])\n",
        "        triple.append(x_adv.detach().clone().squeeze_(0))\n",
        "        triple=torch.stack(triple)\n",
        "        grid = torchvision.utils.make_grid(triple.cpu()/2+0.5)\n",
        "        plt.figure(figsize=(10,10))\n",
        "        plt.imshow(grid.numpy().transpose((1, 2, 0)))\n",
        "        plt.axis('off')\n",
        "        plt.show()\n",
        "\n",
        "    "
      ],
      "execution_count": null,
      "outputs": [
        {
          "output_type": "stream",
          "text": [
            "Clipping input data to the valid range for imshow with RGB data ([0..1] for floats or [0..255] for integers).\n"
          ],
          "name": "stderr"
        },
        {
          "output_type": "stream",
          "text": [
            "\n",
            "from left to right: perturbation, original image, adversary example\n",
            "\n",
            "true label: 0 adversary label: 1\n"
          ],
          "name": "stdout"
        },
        {
          "output_type": "display_data",
          "data": {
            "image/png": "[encoded data removed]",
            "text/plain": [
              "<Figure size 720x720 with 1 Axes>"
            ]
          },
          "metadata": {
            "tags": [],
            "needs_background": "light"
          }
        },
        {
          "output_type": "stream",
          "text": [
            "Clipping input data to the valid range for imshow with RGB data ([0..1] for floats or [0..255] for integers).\n"
          ],
          "name": "stderr"
        },
        {
          "output_type": "stream",
          "text": [
            "true label: 1 adversary label: 8\n"
          ],
          "name": "stdout"
        },
        {
          "output_type": "display_data",
          "data": {
            "image/png": "[encoded data removed]",
            "text/plain": [
              "<Figure size 720x720 with 1 Axes>"
            ]
          },
          "metadata": {
            "tags": [],
            "needs_background": "light"
          }
        },
        {
          "output_type": "stream",
          "text": [
            "Clipping input data to the valid range for imshow with RGB data ([0..1] for floats or [0..255] for integers).\n"
          ],
          "name": "stderr"
        },
        {
          "output_type": "stream",
          "text": [
            "true label: 2 adversary label: 0\n"
          ],
          "name": "stdout"
        },
        {
          "output_type": "display_data",
          "data": {
            "image/png": "[encoded data removed]",
            "text/plain": [
              "<Figure size 720x720 with 1 Axes>"
            ]
          },
          "metadata": {
            "tags": [],
            "needs_background": "light"
          }
        },
        {
          "output_type": "stream",
          "text": [
            "Clipping input data to the valid range for imshow with RGB data ([0..1] for floats or [0..255] for integers).\n"
          ],
          "name": "stderr"
        },
        {
          "output_type": "stream",
          "text": [
            "true label: 3 adversary label: 5\n"
          ],
          "name": "stdout"
        },
        {
          "output_type": "display_data",
          "data": {
            "image/png": "[encoded data removed]",
            "text/plain": [
              "<Figure size 720x720 with 1 Axes>"
            ]
          },
          "metadata": {
            "tags": [],
            "needs_background": "light"
          }
        },
        {
          "output_type": "stream",
          "text": [
            "Clipping input data to the valid range for imshow with RGB data ([0..1] for floats or [0..255] for integers).\n"
          ],
          "name": "stderr"
        },
        {
          "output_type": "stream",
          "text": [
            "true label: 4 adversary label: 2\n"
          ],
          "name": "stdout"
        },
        {
          "output_type": "display_data",
          "data": {
            "image/png": "[encoded data removed]",
            "text/plain": [
              "<Figure size 720x720 with 1 Axes>"
            ]
          },
          "metadata": {
            "tags": [],
            "needs_background": "light"
          }
        },
        {
          "output_type": "stream",
          "text": [
            "Clipping input data to the valid range for imshow with RGB data ([0..1] for floats or [0..255] for integers).\n"
          ],
          "name": "stderr"
        },
        {
          "output_type": "stream",
          "text": [
            "true label: 5 adversary label: 7\n"
          ],
          "name": "stdout"
        },
        {
          "output_type": "display_data",
          "data": {
            "image/png": "[encoded data removed]",
            "text/plain": [
              "<Figure size 720x720 with 1 Axes>"
            ]
          },
          "metadata": {
            "tags": [],
            "needs_background": "light"
          }
        },
        {
          "output_type": "stream",
          "text": [
            "Clipping input data to the valid range for imshow with RGB data ([0..1] for floats or [0..255] for integers).\n"
          ],
          "name": "stderr"
        },
        {
          "output_type": "stream",
          "text": [
            "true label: 6 adversary label: 2\n"
          ],
          "name": "stdout"
        },
        {
          "output_type": "display_data",
          "data": {
            "image/png": "[encoded data removed]",
            "text/plain": [
              "<Figure size 720x720 with 1 Axes>"
            ]
          },
          "metadata": {
            "tags": [],
            "needs_background": "light"
          }
        },
        {
          "output_type": "stream",
          "text": [
            "Clipping input data to the valid range for imshow with RGB data ([0..1] for floats or [0..255] for integers).\n"
          ],
          "name": "stderr"
        },
        {
          "output_type": "stream",
          "text": [
            "true label: 7 adversary label: 4\n"
          ],
          "name": "stdout"
        },
        {
          "output_type": "display_data",
          "data": {
            "image/png": "[encoded data removed]",
            "text/plain": [
              "<Figure size 720x720 with 1 Axes>"
            ]
          },
          "metadata": {
            "tags": [],
            "needs_background": "light"
          }
        },
        {
          "output_type": "stream",
          "text": [
            "Clipping input data to the valid range for imshow with RGB data ([0..1] for floats or [0..255] for integers).\n"
          ],
          "name": "stderr"
        },
        {
          "output_type": "stream",
          "text": [
            "true label: 8 adversary label: 0\n"
          ],
          "name": "stdout"
        },
        {
          "output_type": "display_data",
          "data": {
            "image/png": "[encoded data removed]",
            "text/plain": [
              "<Figure size 720x720 with 1 Axes>"
            ]
          },
          "metadata": {
            "tags": [],
            "needs_background": "light"
          }
        },
        {
          "output_type": "stream",
          "text": [
            "Clipping input data to the valid range for imshow with RGB data ([0..1] for floats or [0..255] for integers).\n"
          ],
          "name": "stderr"
        },
        {
          "output_type": "stream",
          "text": [
            "true label: 9 adversary label: 1\n"
          ],
          "name": "stdout"
        },
        {
          "output_type": "display_data",
          "data": {
            "image/png": "[encoded data removed]",
            "text/plain": [
              "<Figure size 720x720 with 1 Axes>"
            ]
          },
          "metadata": {
            "tags": [],
            "needs_background": "light"
          }
        }
      ]
    },
    {
      "cell_type": "markdown",
      "metadata": {
        "id": "Ka-hwda0mxp7"
      },
      "source": [
        "### Adversarial Training with FGSM (net_adv model)"
      ]
    },
    {
      "cell_type": "code",
      "metadata": {
        "colab": {
          "base_uri": "https://localhost:8080/"
        },
        "id": "YxZI0A2fvq9-",
        "outputId": "decb780f-d749-4a18-b433-ceb9534aff32"
      },
      "source": [
        "print('==> Building new model..')\n",
        "net_adv = ResNet18()\n",
        "net_adv = net_adv.to(device)\n",
        "if device == 'cuda':\n",
        "    net_adv = torch.nn.DataParallel(net_adv)\n",
        "    cudnn.benchmark = True\n",
        "\n",
        "criterion = nn.CrossEntropyLoss()\n",
        "optimizer_adv = optim.SGD(net_adv.parameters(), lr=lr,\n",
        "                      momentum=0.9, weight_decay=5e-4)\n",
        "scheduler_adv = torch.optim.lr_scheduler.CosineAnnealingLR(optimizer_adv, T_max=200)\n"
      ],
      "execution_count": null,
      "outputs": [
        {
          "output_type": "stream",
          "text": [
            "==> Building new model..\n"
          ],
          "name": "stdout"
        }
      ]
    },
    {
      "cell_type": "code",
      "metadata": {
        "id": "MqVHCoXHTTwd"
      },
      "source": [
        "def train_adv(epoch, net):\n",
        "    print('\\nEpoch: %d' % epoch)\n",
        "    net.train()\n",
        "    train_loss = 0\n",
        "    correct = 0\n",
        "    total = 0\n",
        "    eps=8/255\n",
        "    for batch_idx, (inputs, targets) in enumerate(trainloader):\n",
        "        inputs, targets = inputs.to(device), targets.to(device)\n",
        "\n",
        "        inputs_ = Variable(inputs.data, requires_grad=True)\n",
        "        h_ = net(inputs_)\n",
        "\n",
        "        cost = criterion(h_, targets)\n",
        "\n",
        "        net.zero_grad()\n",
        "        cost.backward()\n",
        "\n",
        "        pert= eps*inputs_.grad.detach().sign()\n",
        "        x_adv = inputs_ + pert\n",
        "\n",
        "        optimizer_adv.zero_grad()\n",
        "        outputs = net(x_adv)\n",
        "        loss = criterion(outputs, targets)\n",
        "        loss.backward()\n",
        "        optimizer_adv.step()\n",
        "\n",
        "        train_loss += loss.item()\n",
        "        _, predicted = outputs.max(1)\n",
        "        total += targets.size(0)\n",
        "        correct += predicted.eq(targets).sum().item()\n",
        "    return train_loss/len(trainloader)\n",
        "\n",
        "def test_adv(epoch, net):\n",
        "    global acc\n",
        "    net.eval()\n",
        "    test_loss = 0\n",
        "    correct = 0\n",
        "    total = 0\n",
        "    with torch.no_grad():\n",
        "        for batch_idx, (inputs, targets) in enumerate(testloader):\n",
        "            inputs, targets = inputs.to(device), targets.to(device)\n",
        "            outputs = net(inputs)\n",
        "            loss = criterion(outputs, targets)\n",
        "\n",
        "            test_loss += loss.item()\n",
        "            _, predicted = outputs.max(1)\n",
        "            total += targets.size(0)\n",
        "            correct += predicted.eq(targets).sum().item()\n",
        "    acc = 100 * correct / total\n",
        "    return test_loss/len(testloader)"
      ],
      "execution_count": null,
      "outputs": []
    },
    {
      "cell_type": "code",
      "metadata": {
        "id": "fuJI2KzsoVdZ"
      },
      "source": [
        "train_losses_adv=[]\n",
        "test_losses_adv=[]\n",
        "epochs=40\n",
        "\n",
        "for epoch in range(0,epochs):\n",
        "    train_losses_adv.append(train_adv(epoch, net_adv))\n",
        "    test_losses_adv.append(test_adv(epoch, net_adv))\n",
        "    scheduler_adv.step()\n",
        "\n",
        "print('Accuracy of the network on the test images: %d %%' % (acc))"
      ],
      "execution_count": null,
      "outputs": []
    },
    {
      "cell_type": "markdown",
      "metadata": {
        "id": "RkAZ-6nkpgEw"
      },
      "source": [
        "####Training and Test loss of the Adverarially-trained model with FGSM"
      ]
    },
    {
      "cell_type": "code",
      "metadata": {
        "colab": {
          "base_uri": "https://localhost:8080/",
          "height": 281
        },
        "id": "7VPdH_t6pJ8K",
        "outputId": "f9a7d6c4-67bb-4909-fbce-c1aac6e8d2b1"
      },
      "source": [
        "epochs=40\n",
        "plt.plot(np.arange(1,epochs+1),train_losses_adv, label='train losses')\n",
        "plt.plot(np.arange(1,epochs+1), test_losses_adv, label='test losses')\n",
        "plt.xlabel='epochs'\n",
        "plt.ylabel='losses'\n",
        "plt.title('adversarially trained model with FGSM attack')\n",
        "plt.legend()\n",
        "plt.show()"
      ],
      "execution_count": null,
      "outputs": [
        {
          "output_type": "display_data",
          "data": {
            "image/png": "[encoded data removed]",
            "text/plain": [
              "<Figure size 432x288 with 1 Axes>"
            ]
          },
          "metadata": {
            "tags": [],
            "needs_background": "light"
          }
        }
      ]
    },
    {
      "cell_type": "markdown",
      "metadata": {
        "id": "rvlURfU-pYNj"
      },
      "source": [
        "#### Comparing naturally trained model and adversarially trained model"
      ]
    },
    {
      "cell_type": "code",
      "metadata": {
        "colab": {
          "base_uri": "https://localhost:8080/",
          "height": 265
        },
        "id": "pllouoyupfZm",
        "outputId": "096e6998-c388-4dd6-a91c-b819242f1c0e"
      },
      "source": [
        "plt.plot(np.arange(1,epochs+1),train_losses, label='train - natural')\n",
        "plt.plot(np.arange(1,epochs+1), test_losses, label='test - natural')\n",
        "plt.plot(np.arange(1,epochs+1),train_losses_adv, label='train - adversary')\n",
        "plt.plot(np.arange(1,epochs+1), test_losses_adv, label='test - adversary')\n",
        "plt.xlabel='epochs'\n",
        "plt.ylabel='losses'\n",
        "plt.legend()\n",
        "plt.show()"
      ],
      "execution_count": null,
      "outputs": [
        {
          "output_type": "display_data",
          "data": {
            "image/png": "[encoded data removed]",
            "text/plain": [
              "<Figure size 432x288 with 1 Axes>"
            ]
          },
          "metadata": {
            "tags": [],
            "needs_background": "light"
          }
        }
      ]
    },
    {
      "cell_type": "markdown",
      "metadata": {
        "id": "nTlRyE7upwiY"
      },
      "source": [
        "\n",
        "Training losses of the adversarially-trained model is higher than training losses of the naturally-trained model, which is intuitive, since the adversarially-trained model is trained against adversary examples, which makes it harder for the model to label these perturbed inputs correctly and results in higher error.\n",
        "\n",
        "The loss of the naturally-trained model on test data is higher than the training loss, since test data is unseen by the model, resulting on higher error in classification.\n",
        "\n",
        "However, the loss of the adversarially-trained model on test data is lower than the correspoding training loss. This is probably due to the fact that the test data are not adversary examples (in contrast to training data) and that the model has learned to extract important and useful features."
      ]
    },
    {
      "cell_type": "markdown",
      "metadata": {
        "id": "iHPJiYNK1ouR"
      },
      "source": [
        "####Evaluating the Adversarially trained model on adversary examples\n",
        "\n",
        "\n"
      ]
    },
    {
      "cell_type": "code",
      "metadata": {
        "id": "0PL1wYGTwBM-"
      },
      "source": [
        "def test_adv_exmpl(net, net_adv, eps):\n",
        "    accuracy=0\n",
        "    net.train()\n",
        "    net_adv.eval()\n",
        "    test_loss = 0\n",
        "    correct = 0\n",
        "    total = 0\n",
        "    for batch_idx, (inputs, targets) in enumerate(testloader):\n",
        "        inputs, targets = inputs.to(device), targets.to(device)\n",
        "\n",
        "        x_adv, h_adv, y_adv, pert = FGSM (net, inputs, targets, eps)\n",
        "            \n",
        "        outputs = net_adv(x_adv)\n",
        "        loss = criterion(outputs, targets)\n",
        "\n",
        "        test_loss += loss.item()\n",
        "        _, predicted = outputs.max(1)\n",
        "        total += targets.size(0)\n",
        "        correct += predicted.eq(targets).sum().item()\n",
        "    accuracy = 100 * correct / total\n",
        "    return accuracy"
      ],
      "execution_count": null,
      "outputs": []
    },
    {
      "cell_type": "code",
      "metadata": {
        "colab": {
          "base_uri": "https://localhost:8080/"
        },
        "id": "ucGMwpoIwBPJ",
        "outputId": "17b5fbaa-fe97-4659-9b7e-860ac2b8a8c3"
      },
      "source": [
        "for eps in [4/355, 8/255, 12/255]:\n",
        "    accuracy=test_adv_exmpl(net, net_adv, eps)\n",
        "    print(\"epsilon:\", eps, \"accuracy:\", accuracy)"
      ],
      "execution_count": null,
      "outputs": [
        {
          "output_type": "stream",
          "text": [
            "epsilon: 0.011267605633802818 accuracy: 88.77\n",
            "epsilon: 0.03137254901960784 accuracy: 88.1\n",
            "epsilon: 0.047058823529411764 accuracy: 87.52\n"
          ],
          "name": "stdout"
        }
      ]
    },
    {
      "cell_type": "markdown",
      "metadata": {
        "id": "BdF1481sHbd-"
      },
      "source": [
        "We see that as epsilon increases, the accuracy decreases, since for bigger epsilons, greater perturbations are allowed, therefore it becomes harder for the model to correctly label those perturbed examples."
      ]
    },
    {
      "cell_type": "markdown",
      "metadata": {
        "id": "pj7bL_J41yx3"
      },
      "source": [
        "#### Evaluating naturally-trained and adversariallyt-rained models on perturbed examples by gaussian noise\n",
        "\n",
        "\n"
      ]
    },
    {
      "cell_type": "code",
      "metadata": {
        "id": "mIgC4G6WyBuL"
      },
      "source": [
        "def test_pert(net):\n",
        "    accuracy=0\n",
        "    net.eval()\n",
        "    test_loss = 0\n",
        "    correct = 0\n",
        "    total = 0\n",
        "    with torch.no_grad():\n",
        "        for batch_idx, (inputs, targets) in enumerate(testloader):\n",
        "            inputs, targets = inputs.to(device), targets.to(device)\n",
        "\n",
        "            pert=torch.normal(8/255, 1/255, size=inputs.shape).to(device)\n",
        "\n",
        "            x_adv=inputs+pert\n",
        "\n",
        "            outputs = net(x_adv)\n",
        "            loss = criterion(outputs, targets)\n",
        "\n",
        "            test_loss += loss.item()\n",
        "            _, predicted = outputs.max(1)\n",
        "            total += targets.size(0)\n",
        "            correct += predicted.eq(targets).sum().item()\n",
        "    accuracy = 100 * correct / total\n",
        "    return accuracy"
      ],
      "execution_count": null,
      "outputs": []
    },
    {
      "cell_type": "code",
      "metadata": {
        "colab": {
          "base_uri": "https://localhost:8080/"
        },
        "id": "TzAkaVe3yB-_",
        "outputId": "96ebddc2-c25f-4fb5-f082-fbb1d4294ebc"
      },
      "source": [
        "acc_natural=test_pert(net)\n",
        "acc_adversary=test_pert(net_adv)\n",
        "print(\"accuracy of naturally trained model on perturbed data:\", acc_natural)\n",
        "print(\"accuracy of adversarially trained model on perturbed data:\", acc_adversary)"
      ],
      "execution_count": null,
      "outputs": [
        {
          "output_type": "stream",
          "text": [
            "accuracy of naturally trained model on perturbed data: 90.49\n",
            "accuracy of adversarially trained model on perturbed data: 89.23\n"
          ],
          "name": "stdout"
        }
      ]
    },
    {
      "cell_type": "markdown",
      "metadata": {
        "id": "h94aamBQI4rX"
      },
      "source": [
        "These two accuryacies are so close. However, the accuracy of the naturally trained model is slightly higher, which is weird! We expect the accuracy of the adversarially trained model on perturbed data to be higher than the accuary of naturally trained model, as the adversarially trained model is more robust and should have better performance on perturbed data."
      ]
    },
    {
      "cell_type": "markdown",
      "metadata": {
        "id": "LvbJlPoUApSz"
      },
      "source": [
        "Part 9 answer: The accuracy of the advesarially trained model is higher on perturbed data (89.23%) than on adversary examples produced by FGSM (88.1% for eps=8/255), which shows that FGSM produces stronger attacks so it is more difficult for the model to label perturbed inputs correctly under this attack compared to perturbed data by gaussian noise."
      ]
    },
    {
      "cell_type": "markdown",
      "metadata": {
        "id": "szrdxreF26jQ"
      },
      "source": [
        "### FGSM on targeted examples"
      ]
    },
    {
      "cell_type": "markdown",
      "metadata": {
        "id": "8mssoOlWs-k6"
      },
      "source": [
        "Part 10 answer: In targeted attacks, we want the model to misclassify its input to the given target class. Therefore, instead of just maximizing the loss of the true label, we maximize the loss of the true label and also minimize the loss for the alternative label."
      ]
    },
    {
      "cell_type": "code",
      "metadata": {
        "id": "3uTt1l2XwvH1"
      },
      "source": [
        "def FGSM_targeted(net,x,y,t,eps):\n",
        "        x_ = Variable(x.data, requires_grad=True)\n",
        "        h_ = net(x_)\n",
        "        criterion= torch.nn.CrossEntropyLoss()\n",
        "        cost = criterion(h_, y)-criterion(h_,t)\n",
        "        net.zero_grad()\n",
        "        cost.backward()\n",
        "\n",
        "        #perturbation\n",
        "        pert= eps*x_.grad.detach().sign()\n",
        "        \n",
        "        x_adv = x_ + pert\n",
        "\n",
        "        h_adv = net(x_adv)\n",
        "        _,y_adv=torch.max(h_adv.data,1)\n",
        "        return x_adv, h_adv, y_adv, pert  "
      ],
      "execution_count": null,
      "outputs": []
    },
    {
      "cell_type": "code",
      "metadata": {
        "id": "9Js20hjhyZN4"
      },
      "source": [
        "def test_adv_targ(net,model,eps,mode='largest_prob'):\n",
        "    acc=0\n",
        "    net.train()\n",
        "    model.eval()\n",
        "    test_loss = 0\n",
        "    correct = 0\n",
        "    total = 0\n",
        "\n",
        "    for batch_idx, (inputs, targets) in enumerate(testloader):\n",
        "        inputs, targets = inputs.to(device), targets.to(device)\n",
        "        if mode=='largest_prob':\n",
        "            out=net(inputs)\n",
        "            _,largest=torch.kthvalue(out,10,1)\n",
        "            _,second_largest=torch.kthvalue(out,9,1)\n",
        "            condition=largest-targets\n",
        "            target_adv=torch.where(condition==0,second_largest, largest)\n",
        "        else:\n",
        "            out=net(inputs)\n",
        "            _,smallest=torch.kthvalue(out,1,1)\n",
        "            _,second_smallest=torch.kthvalue(out,2,1)\n",
        "            condition=smallest-targets\n",
        "            target_adv=torch.where(condition==0,second_smallest, smallest)\n",
        "\n",
        "        x_adv, h_adv, y_adv, pert =FGSM_targeted(net,inputs,targets,target_adv,eps)\n",
        "\n",
        "        with torch.no_grad():\n",
        "                outputs = model(x_adv)\n",
        "                loss = criterion(outputs, targets)\n",
        "                test_loss += loss.item()\n",
        "                _, predicted = outputs.max(1)\n",
        "                total += targets.size(0)\n",
        "                correct += predicted.eq(targets).sum().item()\n",
        "    acc = 100 * correct / total\n",
        "    return acc"
      ],
      "execution_count": null,
      "outputs": []
    },
    {
      "cell_type": "markdown",
      "metadata": {
        "id": "7T7oPgC_-Yky"
      },
      "source": [
        "####Class with the **Largest** probability (other than the true class) as the target class for FGSM-targeted attack"
      ]
    },
    {
      "cell_type": "code",
      "metadata": {
        "colab": {
          "base_uri": "https://localhost:8080/"
        },
        "id": "L0sTl20P0LhW",
        "outputId": "e8d75819-2df4-4f7e-e4fe-51ce91b29515"
      },
      "source": [
        "eps=8/255\n",
        "acc1=test_adv_targ(net,net,eps)\n",
        "acc2=test_adv_targ(net,net_adv,eps)\n",
        "print(\"accuracy of naturally trained model against FGSM_targeted attack:\",acc1)\n",
        "print(\"accuracy of adversarially trained model against FGSM_targeted attack:\",acc2)\n"
      ],
      "execution_count": null,
      "outputs": [
        {
          "output_type": "stream",
          "text": [
            "accuracy of naturally trained model against FGSM_targeted attack: 28.35\n",
            "accuracy of adversarially trained model against FGSM_targeted attack: 87.81\n"
          ],
          "name": "stdout"
        }
      ]
    },
    {
      "cell_type": "markdown",
      "metadata": {
        "id": "A89JCuDA-u-D"
      },
      "source": [
        "#### Class with the **Smallest** probability (other than the true class) as the target class for FGSM-targeted attack"
      ]
    },
    {
      "cell_type": "code",
      "metadata": {
        "colab": {
          "base_uri": "https://localhost:8080/"
        },
        "id": "hXsV64ID-xba",
        "outputId": "3d130c23-344a-4cdd-b65e-4d458907396c"
      },
      "source": [
        "eps=8/255\n",
        "acc1=test_adv_targ(net,net,eps, mode='smallest_prob')\n",
        "acc2=test_adv_targ(net,net_adv,eps, mode='smallest_prob')\n",
        "print(\"accuracy of naturally trained model against FGSM_targeted attack:\",acc1)\n",
        "print(\"accuracy of adversarially trained model against FGSM_targeted attack:\",acc2)\n"
      ],
      "execution_count": null,
      "outputs": [
        {
          "output_type": "stream",
          "text": [
            "accuracy of naturally trained model against FGSM_targeted attack: 44.2\n",
            "accuracy of adversarially trained model against FGSM_targeted attack: 87.96\n"
          ],
          "name": "stdout"
        }
      ]
    },
    {
      "cell_type": "markdown",
      "metadata": {
        "id": "3cICjtTM_GYs"
      },
      "source": [
        "Part 14 answer: We see that in both cases the accuracy of the\n",
        "adversarially-trained model in much higher than the naturally-trained model since the adversarially-trained model has become more robust and therefore should have higher accuracy against adversary examples."
      ]
    },
    {
      "cell_type": "markdown",
      "metadata": {
        "id": "1sBiFUPnv_WQ"
      },
      "source": [
        "##Question 2"
      ]
    },
    {
      "cell_type": "markdown",
      "metadata": {
        "id": "CHJ_LBfV2nY6"
      },
      "source": [
        "### PGD\n",
        "\n",
        "$Repeat:\\\\\n",
        "\\delta:=\\mathcal{P}(\\delta+\\alpha \\nabla_{\\delta} l(\\theta, x, y)\n",
        "$\n",
        "\n",
        "[source](https://adversarial-ml-tutorial.org/adversarial_examples/)"
      ]
    },
    {
      "cell_type": "code",
      "metadata": {
        "id": "i54wfUt82msX"
      },
      "source": [
        "def PGD(net,x,y,alpha,epsilon,iter):\n",
        "    delta = torch.zeros_like(x, requires_grad=True)\n",
        "    for i in range(iter):\n",
        "        criterion=nn.CrossEntropyLoss()\n",
        "        loss = criterion(net(x + delta), y)\n",
        "        loss.backward()\n",
        "        delta.data = (delta + x.shape[0]*alpha*delta.grad.data).clamp(-epsilon,epsilon)\n",
        "        delta.grad.zero_()\n",
        "    pert=delta.detach()\n",
        "    x_adv=x+pert\n",
        "    h_adv=net(x_adv)\n",
        "    _,y_adv=torch.max(h_adv.data,1)\n",
        "    return x_adv, h_adv, y_adv, pert"
      ],
      "execution_count": null,
      "outputs": []
    },
    {
      "cell_type": "code",
      "metadata": {
        "id": "14ySiBWJLsVe"
      },
      "source": [
        "def test_PGD(net,model,alpha,eps,iter):\n",
        "    acc=0\n",
        "    net.train()\n",
        "    model.eval()\n",
        "    test_loss = 0\n",
        "    correct = 0\n",
        "    total = 0\n",
        "    for batch_idx, (inputs, targets) in enumerate(testloader):\n",
        "            inputs, targets = inputs.to(device), targets.to(device)\n",
        "            x_adv,_,_,_=PGD(net,inputs,targets,alpha,eps,iter)\n",
        "\n",
        "            with torch.no_grad():\n",
        "                outputs = model(x_adv)\n",
        "                loss = criterion(outputs, targets)\n",
        "\n",
        "                test_loss += loss.item()\n",
        "                _, predicted = outputs.max(1)\n",
        "                total += targets.size(0)\n",
        "                correct += predicted.eq(targets).sum().item()\n",
        "    acc = 100 * correct / total\n",
        "    return acc"
      ],
      "execution_count": null,
      "outputs": []
    },
    {
      "cell_type": "markdown",
      "metadata": {
        "id": "V7K4nldsMtz4"
      },
      "source": [
        "#### Evaluating adversarially trained model (with FGSM) against PGD attack on test data"
      ]
    },
    {
      "cell_type": "code",
      "metadata": {
        "colab": {
          "base_uri": "https://localhost:8080/"
        },
        "id": "IBQUVsY5XmHM",
        "outputId": "c287f785-2793-4813-fc0f-ae040e160da4"
      },
      "source": [
        "alpha=3/255\n",
        "eps=8/255\n",
        "acc1_pgd=[]\n",
        "for iter in [3,7,12]:\n",
        "    acc=test_PGD(net,net_adv,alpha,eps,iter)\n",
        "    acc1_pgd.append(acc)\n",
        "    print(\"accuracy of net_adv against PGD attack with iters=\",iter,\": \",acc)"
      ],
      "execution_count": null,
      "outputs": [
        {
          "output_type": "stream",
          "text": [
            "accuracy of net_adv against PGD attack with iters= 3 :  88.94\n",
            "accuracy of net_adv against PGD attack with iters= 7 :  88.77\n",
            "accuracy of net_adv against PGD attack with iters= 12 :  88.62\n"
          ],
          "name": "stdout"
        }
      ]
    },
    {
      "cell_type": "markdown",
      "metadata": {
        "id": "AjHBn8je7UQe"
      },
      "source": [
        "We see that as the iterations increase, the accuracy decreases. The reason is, as the number of iterations icreases, the PGD function produces stronger attacks which make it harder for the model to label them correctly. Therefore, the accuracy of the model decreases."
      ]
    },
    {
      "cell_type": "markdown",
      "metadata": {
        "id": "a7S2kPZ5M_WQ"
      },
      "source": [
        "### Adversarial Training with PGD (net_pgd model)"
      ]
    },
    {
      "cell_type": "code",
      "metadata": {
        "colab": {
          "base_uri": "https://localhost:8080/"
        },
        "id": "AZIcPOdlNlex",
        "outputId": "35fa9389-a683-4a35-e6da-17b7918ade94"
      },
      "source": [
        "print('==> Building new model..')\n",
        "net_pgd = ResNet18()\n",
        "net_pgd = net_pgd.to(device)\n",
        "if device == 'cuda':\n",
        "    net_pgd = torch.nn.DataParallel(net_pgd)\n",
        "    cudnn.benchmark = True\n",
        "\n",
        "criterion = nn.CrossEntropyLoss()\n",
        "optimizer_pgd = optim.SGD(net_pgd.parameters(), lr=lr,\n",
        "                      momentum=0.9, weight_decay=5e-4)\n",
        "scheduler_pgd = torch.optim.lr_scheduler.CosineAnnealingLR(optimizer_pgd, T_max=200)\n"
      ],
      "execution_count": null,
      "outputs": [
        {
          "output_type": "stream",
          "text": [
            "==> Building new model..\n"
          ],
          "name": "stdout"
        }
      ]
    },
    {
      "cell_type": "code",
      "metadata": {
        "id": "VdyrtMvYKtY8"
      },
      "source": [
        "def train_pgd(epoch, net, alpha, epsilon, iter):\n",
        "    print('\\nEpoch: %d' % epoch)\n",
        "    net.train()\n",
        "    train_loss = 0\n",
        "    correct = 0\n",
        "    total = 0\n",
        "    eps=8/255\n",
        "    for batch_idx, (inputs, targets) in enumerate(trainloader):\n",
        "        inputs, targets = inputs.to(device), targets.to(device)\n",
        "\n",
        "        x_adv,_,_,_ = PGD(net,inputs,targets,alpha,epsilon,iter)\n",
        "\n",
        "        optimizer_pgd.zero_grad()\n",
        "        outputs = net(x_adv)\n",
        "        loss = criterion(outputs, targets)\n",
        "        loss.backward()\n",
        "        optimizer_pgd.step()\n",
        "\n",
        "        train_loss += loss.item()\n",
        "        _, predicted = outputs.max(1)\n",
        "        total += targets.size(0)\n",
        "        correct += predicted.eq(targets).sum().item()\n",
        "    return train_loss/len(trainloader)\n",
        "\n",
        "def test_pgd(epoch, net):\n",
        "    global acc\n",
        "    net.eval()\n",
        "    test_loss = 0\n",
        "    correct = 0\n",
        "    total = 0\n",
        "    with torch.no_grad():\n",
        "        for batch_idx, (inputs, targets) in enumerate(testloader):\n",
        "            inputs, targets = inputs.to(device), targets.to(device)\n",
        "            outputs = net(inputs)\n",
        "            loss = criterion(outputs, targets)\n",
        "\n",
        "            test_loss += loss.item()\n",
        "            _, predicted = outputs.max(1)\n",
        "            total += targets.size(0)\n",
        "            correct += predicted.eq(targets).sum().item()\n",
        "    acc = 100 * correct / total\n",
        "    return test_loss/len(testloader)"
      ],
      "execution_count": null,
      "outputs": []
    },
    {
      "cell_type": "code",
      "metadata": {
        "id": "HMHPkAjJoeUj"
      },
      "source": [
        "train_losses_pgd=[]\n",
        "test_losses_pgd=[]\n",
        "epochs=40\n",
        "alpha=3/255\n",
        "epsilon=8/255\n",
        "iter=3\n",
        "for epoch in range(0,epochs):\n",
        "    train_losses_pgd.append(train_pgd(epoch, net_pgd, alpha, epsilon, iter))\n",
        "    test_losses_pgd.append(test_pgd(epoch, net_pgd))\n",
        "    scheduler_pgd.step()\n",
        "\n",
        "print('Accuracy of the network on the test images: %d %%' % (acc))"
      ],
      "execution_count": null,
      "outputs": []
    },
    {
      "cell_type": "code",
      "metadata": {
        "id": "Z94DHkDLEf_g",
        "colab": {
          "base_uri": "https://localhost:8080/",
          "height": 281
        },
        "outputId": "7ddc2e7e-194e-4e99-f413-2a4775142dd4"
      },
      "source": [
        "epochs=40\n",
        "plt.plot(np.arange(1,epochs+1),train_losses_pgd, label='train losses')\n",
        "plt.plot(np.arange(1,epochs+1), test_losses_pgd, label='test losses')\n",
        "plt.xlabel='epochs'\n",
        "plt.ylabel='losses'\n",
        "plt.title('adversarially trained model with PGD attack')\n",
        "plt.legend()\n",
        "plt.show()"
      ],
      "execution_count": null,
      "outputs": [
        {
          "output_type": "display_data",
          "data": {
            "image/png": "[encoded data removed]",
            "text/plain": [
              "<Figure size 432x288 with 1 Axes>"
            ]
          },
          "metadata": {
            "tags": [],
            "needs_background": "light"
          }
        }
      ]
    },
    {
      "cell_type": "markdown",
      "metadata": {
        "id": "CWppiwM1y6Qy"
      },
      "source": [
        "Comparing to plots of Question 1:"
      ]
    },
    {
      "cell_type": "code",
      "metadata": {
        "colab": {
          "base_uri": "https://localhost:8080/",
          "height": 265
        },
        "id": "Cyb9UGdkdfat",
        "outputId": "bae01939-5916-448e-d751-a4ef1086f3ce"
      },
      "source": [
        "epochs=40\n",
        "plt.plot(np.arange(1,epochs+1),train_losses, label='train - natural')\n",
        "plt.plot(np.arange(1,epochs+1), test_losses, label='test - natural')\n",
        "plt.plot(np.arange(1,epochs+1),train_losses_adv, label='train - adversary - FGSM')\n",
        "plt.plot(np.arange(1,epochs+1), test_losses_adv, label='test - adversary - FGSM')\n",
        "plt.plot(np.arange(1,epochs+1),train_losses_pgd, label='train - adversary - PGD')\n",
        "plt.plot(np.arange(1,epochs+1), test_losses_pgd, label='test - adversary - PGD')\n",
        "plt.xlabel='epochs'\n",
        "plt.ylabel='losses'\n",
        "plt.legend()\n",
        "plt.show()"
      ],
      "execution_count": null,
      "outputs": [
        {
          "output_type": "display_data",
          "data": {
            "image/png": "[encoded data removed]",
            "text/plain": [
              "<Figure size 432x288 with 1 Axes>"
            ]
          },
          "metadata": {
            "tags": [],
            "needs_background": "light"
          }
        }
      ]
    },
    {
      "cell_type": "markdown",
      "metadata": {
        "id": "NVjEv9D1d2g3"
      },
      "source": [
        "The plot above shows that the training losses of net_pgd (adversarially-trained with PGD) are much lower than net_adv (adversarially-trained with FGSM) and they are very close to the training losses of the naturally-trained model. Losses of net_pgd on test data is also lower than net_adv in most of the epochs. However, it is worth mentioning that the cost of training using PGD is higher than FGSM as PGD goes under several iterations to produce one adversary example.\n"
      ]
    },
    {
      "cell_type": "code",
      "metadata": {
        "id": "9wFUpPHtEgFE",
        "colab": {
          "base_uri": "https://localhost:8080/"
        },
        "outputId": "8deac676-7abb-42ae-fe9b-a5881e7da615"
      },
      "source": [
        "alpha=3/255\n",
        "eps=8/255\n",
        "acc2_pgd=[]\n",
        "\n",
        "for iter in [3,7,12]:\n",
        "    acc=test_PGD(net,net_pgd,alpha,eps,iter)\n",
        "    acc2_pgd.append(acc)\n",
        "    print(\"accuracy of net_pgd against PGD attack with iters=\",iter,\": \",acc)"
      ],
      "execution_count": null,
      "outputs": [
        {
          "output_type": "stream",
          "text": [
            "accuracy of net_pgd against PGD attack with iters= 3 :  90.0\n",
            "accuracy of net_pgd against PGD attack with iters= 7 :  88.47\n",
            "accuracy of net_pgd against PGD attack with iters= 12 :  87.33\n"
          ],
          "name": "stdout"
        }
      ]
    },
    {
      "cell_type": "markdown",
      "metadata": {
        "id": "EYqt-tAoYz_2"
      },
      "source": [
        "Just like before, We see here too that as the iterations increase, the accuracy decreases. The reason is, as the number of iterations icreases, the PGD function produces stronger attacks which makes it harder for the model to label them correctly. Therefore, the accuracy of the model decreases."
      ]
    },
    {
      "cell_type": "markdown",
      "metadata": {
        "id": "HGu4lWlozSq8"
      },
      "source": [
        "Comparing net_pgd and net_adv accuracies on PGD attack"
      ]
    },
    {
      "cell_type": "code",
      "metadata": {
        "id": "MAhysC2TEgKf",
        "colab": {
          "base_uri": "https://localhost:8080/"
        },
        "outputId": "29f2b654-4f03-472e-b683-5eece755fea3"
      },
      "source": [
        "i=0\n",
        "for iter in [3,7,12]:\n",
        "    print('iter:', iter)\n",
        "    print('accuracy of adversarially-trained model with FGSM against PGD:',acc1_pgd[i])\n",
        "    print('accuracy of adversarially-trained model with PGD against PGD:',acc2_pgd[i])\n",
        "    i=i+1\n"
      ],
      "execution_count": null,
      "outputs": [
        {
          "output_type": "stream",
          "text": [
            "iter: 3\n",
            "accuracy of adversarially-trained model with FGSM against PGD: 88.94\n",
            "accuracy of adversarially-trained model with PGD against PGD: 90.0\n",
            "iter: 7\n",
            "accuracy of adversarially-trained model with FGSM against PGD: 88.77\n",
            "accuracy of adversarially-trained model with PGD against PGD: 88.47\n",
            "iter: 12\n",
            "accuracy of adversarially-trained model with FGSM against PGD: 88.62\n",
            "accuracy of adversarially-trained model with PGD against PGD: 87.33\n"
          ],
          "name": "stdout"
        }
      ]
    },
    {
      "cell_type": "markdown",
      "metadata": {
        "id": "jI08K_DWapQu"
      },
      "source": [
        "net_adv is the model which was trained on adversary examples produced by FGSM attack, and net_pgd is the model which was trained on adversary examples produced by PGD attack.\n",
        "\n",
        "The results show that net_pgd accuracies for different iterations have more variance than net_adv. Moreover, as net_pgd was trained on adversary examples produced using PGD attack with 3 iterations, it has a good performance (90%) on similar examples, i.e. for iter=3. However, its accuracy drops against PGD attack with higher iterations (7 and 12) and it is even lower than the accuracy of net_adv against these attacks. This is probably because net_pgd was trained with PGD-3 (iter=3) and it is more difficult for it to defend against PGD with 2 times or 4 times greater iterations."
      ]
    }
  ]
}